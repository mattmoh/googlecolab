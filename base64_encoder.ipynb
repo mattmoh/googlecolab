{
  "cells": [
    {
      "cell_type": "code",
      "execution_count": null,
      "metadata": {},
      "outputs": [],
      "source": [
        "import os\n",
        "import base64\n",
        "import pandas as pd\n",
        "from google.colab import files"
      ]
    },
    {
      "cell_type": "code",
      "execution_count": null,
      "metadata": {
        "id": "ZuL5_w-ZXRa4"
      },
      "outputs": [],
      "source": [
        "def encode_images(directory):\n",
        "  encoded_images = []\n",
        "  original_filenames = []\n",
        "  file_sizes = []\n",
        "\n",
        "  for filename in os.listdir(directory):\n",
        "    if filename.endswith(('.jpg', '.jpeg', '.png','.PNG')):\n",
        "      file_path = os.path.join(directory, filename)\n",
        "      with open(file_path, \"rb\") as image_file:\n",
        "        encoded_image = base64.b64encode(image_file.read()).decode()\n",
        "        file_size = len(encoded_image) * 3/4\n",
        "      encoded_images.append(encoded_image)\n",
        "      original_filenames.append(filename)\n",
        "      file_sizes.append(file_size)\n",
        "\n",
        "  df = pd.DataFrame({\n",
        "       'filename': original_filenames,\n",
        "       'base64_encoded': encoded_images,\n",
        "       'file_size_KB' : file_sizes\n",
        "       })\n",
        "\n",
        "  return df\n",
        "\n",
        "df = encode_images(os.listdir())\n",
        "df.to_csv('base64_images.csv', index=False)\n",
        "files.download('base64_images.csv')"
      ]
    },
    {
      "cell_type": "code",
      "execution_count": null,
      "metadata": {},
      "outputs": [],
      "source": [
        "if input(\"Do you want to delete the source files? (y/n): \").lower() == \"y\":\n",
        "  for filename in os.listdir() + ['base64_images.csv']:\n",
        "    if os.path.exists(filename):\n",
        "      os.remove(filename)\n",
        "      print(f\"{filename} has been deleted.\")"
      ]
    }
  ],
  "metadata": {
    "colab": {
      "provenance": []
    },
    "kernelspec": {
      "display_name": "Python 3",
      "name": "python3"
    },
    "language_info": {
      "name": "python"
    }
  },
  "nbformat": 4,
  "nbformat_minor": 0
}
