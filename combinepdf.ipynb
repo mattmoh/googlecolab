{
  "cells": [
    {
      "cell_type": "code",
      "execution_count": null,
      "metadata": {
        "colab": {
          "base_uri": "https://localhost:8080/"
        },
        "id": "1sQlGrpnG09q",
        "outputId": "57d84687-db53-4f61-8ec4-4037d9e5c171"
      },
      "outputs": [],
      "source": [
        "!pip install PyPDF2\n",
        "import PyPDF2\n",
        "import os\n",
        "from google.colab import files"
      ]
    },
    {
      "cell_type": "code",
      "execution_count": null,
      "metadata": {
        "colab": {
          "base_uri": "https://localhost:8080/",
          "height": 34
        },
        "id": "vCTYoP_IDNBi",
        "outputId": "fbb52954-db4c-4104-ebdc-cfc80764566a"
      },
      "outputs": [],
      "source": [
        "pdf_files = [f for f in os.listdir() if f.endswith('.pdf')]\n",
        "\n",
        "if len(pdf_files) < 1:\n",
        "  print(\"No PDF files found in the current directory.\")\n",
        "elif len(pdf_files) == 1:\n",
        "  print(\"Only one PDF file found:\", pdf_files[0])\n",
        "else:\n",
        "  merger = PyPDF2.PdfMerger()\n",
        "\n",
        "  for filename in pdf_files:\n",
        "      with open(filename, 'rb') as f:\n",
        "          merger.append(f)\n",
        "\n",
        "  merged_pdf = f'{input(\"Enter the desired name of the merged file: \")}.pdf'\n",
        "  with open(merged_pdf, 'wb') as f:\n",
        "      merger.write(f)\n",
        "\n",
        "  files.download(merged_pdf)"
      ]
    },
    {
      "cell_type": "code",
      "execution_count": null,
      "metadata": {
        "colab": {
          "base_uri": "https://localhost:8080/"
        },
        "id": "YfwzAufPGj8p",
        "outputId": "256332a9-abef-440d-f008-941412c493c9"
      },
      "outputs": [],
      "source": [
        "if input(\"Do you want to delete the source files? (y/n): \").lower() == \"y\":\n",
        "  for filename in pdf_files + [merged_pdf]:\n",
        "    if os.path.exists(filename):\n",
        "      os.remove(filename)\n",
        "      print(f\"{filename} has been deleted.\")"
      ]
    }
  ],
  "metadata": {
    "colab": {
      "provenance": []
    },
    "kernelspec": {
      "display_name": "Python 3",
      "name": "python3"
    },
    "language_info": {
      "name": "python"
    }
  },
  "nbformat": 4,
  "nbformat_minor": 0
}
