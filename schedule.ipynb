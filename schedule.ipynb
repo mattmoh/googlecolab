{
 "cells": [
  {
   "cell_type": "code",
   "execution_count": null,
   "metadata": {},
   "outputs": [],
   "source": [
    "import pandas as pd\n",
    "import icalendar\n",
    "import requests\n",
    "from io import BytesIO\n",
    "from datetime import datetime"
   ]
  },
  {
   "cell_type": "code",
   "execution_count": null,
   "metadata": {},
   "outputs": [],
   "source": [
    "# Function to download and parse ICS file\n",
    "def parse_ics(url):\n",
    "    response = requests.get(url)\n",
    "    calendar = icalendar.Calendar.from_ical(response.content)\n",
    "    events = []\n",
    "    for component in calendar.walk():\n",
    "        if component.name == \"VEVENT\":\n",
    "            event = {\n",
    "                'summary': component.get('summary'),\n",
    "                'dtstart': component.get('dtstart').dt,\n",
    "                'dtend': component.get('dtend').dt,\n",
    "                'location': component.get('location')\n",
    "            }\n",
    "            events.append(event)\n",
    "    return events\n",
    "\n",
    "# Highlight the games\n",
    "def highlight_games(row):\n",
    "    if pd.notna(row['location_8u']) and pd.notna(row['location_11u']):\n",
    "        if row['location_8u'] != row['location_11u']:\n",
    "            return ['background-color: yellow'] * len(row)\n",
    "        else:\n",
    "            return ['background-color: lightgreen'] * len(row)\n",
    "    return [''] * len(row)"
   ]
  },
  {
   "cell_type": "code",
   "execution_count": null,
   "metadata": {},
   "outputs": [],
   "source": [
    "# URLs for the schedules\n",
    "url_8u = \"webcal://api.team-manager.gc.com/ics-calendar-documents/user/ccbe7020-5bd2-4e1c-a765-279cfdcd3aef.ics?teamId=ed885410-3f79-44a3-bf00-e56aa53943a8&token=568f8c48fd9fdea20eab815a5321217fcf55744ede76cf3e3b6ddfba9b473d64\"\n",
    "url_11u = \"webcal://api.team-manager.gc.com/ics-calendar-documents/user/ccbe7020-5bd2-4e1c-a765-279cfdcd3aef.ics?teamId=d682ed0f-9cb3-487f-99f2-8b95110d7747&token=361e72106b7e4e67c755cc497b71f561e7941223c849856f209bc56e9564373d\"\n",
    "\n",
    "# Parse the schedules\n",
    "schedule_8u = parse_ics(url_8u)\n",
    "schedule_11u = parse_ics(url_11u)\n",
    "\n",
    "# Convert to DataFrame\n",
    "df_8u = pd.DataFrame(schedule_8u)\n",
    "df_11u = pd.DataFrame(schedule_11u)\n",
    "\n",
    "# Merge the schedules on the date and time\n",
    "merged_df = pd.merge(df_8u, df_11u, on='dtstart', suffixes=('_8u', '_11u'), how='outer')\n",
    "\n",
    "# Apply the highlighting\n",
    "styled_df = merged_df.style.apply(highlight_games, axis=1)\n",
    "\n",
    "# Display the table\n",
    "styled_df"
   ]
  }
 ],
 "metadata": {
  "language_info": {
   "name": "python"
  }
 },
 "nbformat": 4,
 "nbformat_minor": 2
}
